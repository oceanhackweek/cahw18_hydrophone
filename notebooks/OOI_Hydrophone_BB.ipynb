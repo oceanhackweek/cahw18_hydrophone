{
 "cells": [
  {
   "cell_type": "markdown",
   "metadata": {},
   "source": [
    "This example code will download a 5 minute high frequency hydrophone clip in mseed file format from ocean observatories raw data repository or load a previously downloaded clip and then use obsspy to plot it and save it as a wave file \n",
    "\n",
    "To run this in Anaconda you may need to load an extra library if not already loaded. The first is obspy (obs for ocean bottom seismometers) as this knows how to load mseed files - a standard in seismic community - and how the high frequency hydrophone data is stored in on the raw data repository. See the note here on how to install the binaries here: https://github.com/obspy/obspy/wiki/Installation-via-Anaconda\n",
    "\n",
    "This notebook is based on the workbook from Pete Cable - https://github.com/petercable/shared_notebooks/blob/master/antelope/Antelope_to_WAV.ipynb"
   ]
  },
  {
   "cell_type": "code",
   "execution_count": 6,
   "metadata": {
    "scrolled": true
   },
   "outputs": [],
   "source": [
    "from obspy import read\n",
    "from obspy.core import UTCDateTime\n",
    "import wave\n",
    "import datetime\n",
    "import matplotlib\n",
    "from ipywidgets import widgets\n",
    "import matplotlib.pyplot as plt\n",
    "import soundfile as sf\n",
    "import sounddevice as sd\n",
    "from IPython.display import Audio\n",
    "\n",
    "%matplotlib inline\n",
    "data_url = 'https://rawdata.oceanobservatories.org/files/RS01SLBS/LJ01A/09-HYDBBA102/2017/10/06/OO-HYVM1--YDH-2017-10-06T20:10:00.000015.mseed'\n",
    "localFileName = '../data/merged_hydrophone.mseed'"
   ]
  },
  {
   "cell_type": "markdown",
   "metadata": {},
   "source": [
    "You can download directly from OOI in the program via the url or to speed up development download the file and place it in the same directory as this notebook and then read the local file."
   ]
  },
  {
   "cell_type": "code",
   "execution_count": 7,
   "metadata": {},
   "outputs": [
    {
     "data": {
      "text/plain": [
       "1 Trace(s) in Stream:\n",
       "OO.HYVM2..YDH | 2017-08-21T09:00:00.000000Z - 2017-08-21T11:00:04.450547Z | 64000.0 Hz, 461084836 samples"
      ]
     },
     "execution_count": 7,
     "metadata": {},
     "output_type": "execute_result"
    }
   ],
   "source": [
    "loadFromOOI=False\n",
    "\n",
    "if loadFromOOI==True :\n",
    "    stream = read(data_url)\n",
    "else:\n",
    "    stream = read(localFileName)  # Read Previoulsy Download local file for speed\n",
    "\n",
    "# print some stats about this signal\n",
    "stream"
   ]
  },
  {
   "cell_type": "code",
   "execution_count": 10,
   "metadata": {},
   "outputs": [
    {
     "data": {
      "application/vnd.jupyter.widget-view+json": {
       "model_id": "6c9ba382058942049c13bcc4b28658e8",
       "version_major": 2,
       "version_minor": 0
      },
      "text/html": [
       "<p>Failed to display Jupyter Widget of type <code>interactive</code>.</p>\n",
       "<p>\n",
       "  If you're reading this message in the Jupyter Notebook or JupyterLab Notebook, it may mean\n",
       "  that the widgets JavaScript is still loading. If this message persists, it\n",
       "  likely means that the widgets JavaScript library is either not installed or\n",
       "  not enabled. See the <a href=\"https://ipywidgets.readthedocs.io/en/stable/user_install.html\">Jupyter\n",
       "  Widgets Documentation</a> for setup instructions.\n",
       "</p>\n",
       "<p>\n",
       "  If you're reading this message in another frontend (for example, a static\n",
       "  rendering on GitHub or <a href=\"https://nbviewer.jupyter.org/\">NBViewer</a>),\n",
       "  it may mean that your frontend doesn't currently support widgets.\n",
       "</p>\n"
      ],
      "text/plain": [
       "interactive(children=(IntSlider(value=0, continuous_update=False, description='Num', max=10), Output()), _dom_classes=('widget-interact',))"
      ]
     },
     "metadata": {},
     "output_type": "display_data"
    },
    {
     "data": {
      "text/plain": [
       "<function __main__.spec>"
      ]
     },
     "execution_count": 10,
     "metadata": {},
     "output_type": "execute_result"
    }
   ],
   "source": [
    "def getSamplingFreq(s):\n",
    "    string = str(s).split(\" \")\n",
    "    fs = 0;\n",
    "    for i in range(0, len(string) - 1) :\n",
    "        char = string[i] \n",
    "        count = 1\n",
    "        if (char == \"|\"):\n",
    "            count = count + 1\n",
    "        if (count == 2):\n",
    "            fs = string[i + 1]\n",
    "    return float(fs)\n",
    "\n",
    "def playSound(sound):\n",
    "    sound = sound.copy()\n",
    "    sound.normalize()\n",
    "    sound.data = (sound.data * (2**31-1)).astype('int32')\n",
    "    Fs = getSamplingFreq(sound)\n",
    "    samplerate = 4*Fs;\n",
    "    #Audio(data=sound, rate=samplerate)\n",
    "    sd.play(sound, samplerate)\n",
    "    \n",
    "def getSlice(stream, Num):\n",
    "    dt = UTCDateTime(\"2017-08-21T09:00:00\")\n",
    "    print(dt)\n",
    "    st = stream.slice(dt + Num*10, dt + Num*10 + 10) \n",
    "    return st\n",
    "\n",
    "def spec(Num):\n",
    "    st = getSlice(stream, Num)\n",
    "    #x=np.array([row[Number] for row in stream])\n",
    "    fig, ax = plt.subplots()\n",
    "    pxx, freq, t, cax = ax.specgram(st[0],Fs=64000,noverlap=5, cmap='plasma')\n",
    "    # c axis\n",
    "    cbar = fig.colorbar(cax)\n",
    "    cbar.set_label('Intensity dB')\n",
    "    ax.axis(\"tight\")\n",
    "    # y axis   \n",
    "    ax.set_ylabel('Frequency [kHz]')\n",
    "    scale = 1e3                     # KHz\n",
    "    ticks = matplotlib.ticker.FuncFormatter(lambda x, pos: '{0:g}'.format(x/scale))\n",
    "    ax.yaxis.set_major_formatter(ticks)\n",
    "    # x axis \n",
    "    ax.set_xlabel('Time h:mm:ss')\n",
    "    def timeTicks(x, pos):\n",
    "        d = UTCDateTime(\"2017-08-21T09:00:00\").second+Num*30+x\n",
    "        #d = datetime.timedelta(seconds=x)\n",
    "        return str(d)\n",
    "    formatter = matplotlib.ticker.FuncFormatter(timeTicks)\n",
    "    ax.xaxis.set_major_formatter(formatter)\n",
    "    # shows spectrogram\n",
    "    plt.show()\n",
    "    # time plot\n",
    "    st.plot()\n",
    "    # plays recording\n",
    "    playSound(st[0])\n",
    "    \n",
    "widgets.interact(spec, Num=widgets.IntSlider(min=0,max=10,value=0,step =1,continuous_update=False))\n"
   ]
  },
  {
   "cell_type": "code",
   "execution_count": 13,
   "metadata": {},
   "outputs": [
    {
     "data": {
      "text/plain": [
       "         network: OO\n",
       "         station: HYVM2\n",
       "        location: \n",
       "         channel: YDH\n",
       "       starttime: 2017-08-21T09:00:00.000000Z\n",
       "         endtime: 2017-08-21T11:00:04.450547Z\n",
       "   sampling_rate: 64000.0\n",
       "           delta: 1.5625e-05\n",
       "            npts: 461084836\n",
       "           calib: 1.0\n",
       "         _format: MSEED\n",
       "           mseed: AttribDict({'dataquality': 'D', 'number_of_records': 237553, 'encoding': 'STEIM2', 'byteorder': '>', 'record_length': 4096, 'filesize': 973017088})"
      ]
     },
     "execution_count": 13,
     "metadata": {},
     "output_type": "execute_result"
    }
   ],
   "source": [
    "stream[0].stats"
   ]
  },
  {
   "cell_type": "code",
   "execution_count": null,
   "metadata": {},
   "outputs": [],
   "source": []
  }
 ],
 "metadata": {
  "kernelspec": {
   "display_name": "Python3 OOI",
   "language": "python",
   "name": "ooi3"
  },
  "language_info": {
   "codemirror_mode": {
    "name": "ipython",
    "version": 3
   },
   "file_extension": ".py",
   "mimetype": "text/x-python",
   "name": "python",
   "nbconvert_exporter": "python",
   "pygments_lexer": "ipython3",
   "version": "3.6.3"
  }
 },
 "nbformat": 4,
 "nbformat_minor": 2
}
